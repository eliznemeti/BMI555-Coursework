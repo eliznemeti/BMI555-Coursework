{
 "cells": [
  {
   "cell_type": "markdown",
   "metadata": {},
   "source": [
    "1. Write a code that prints the numbers from 0 to 100, with the following conditions: \n",
    "- If the number is divisible by 3, print the string 'a' instead of the number. \n",
    "- If the number is divisible by 5, print the string 'b' instead of the number. \n",
    "- If the number is divisible by both 3 and 5, print the string 'ab' instead of the number."
   ]
  },
  {
   "cell_type": "code",
   "execution_count": 16,
   "metadata": {},
   "outputs": [
    {
     "name": "stdout",
     "output_type": "stream",
     "text": [
      "ab\n",
      "1\n",
      "2\n",
      "a\n",
      "4\n",
      "b\n",
      "a\n",
      "7\n",
      "8\n",
      "a\n",
      "b\n",
      "11\n",
      "a\n",
      "13\n",
      "14\n",
      "ab\n",
      "16\n",
      "17\n",
      "a\n",
      "19\n",
      "b\n",
      "a\n",
      "22\n",
      "23\n",
      "a\n",
      "b\n",
      "26\n",
      "a\n",
      "28\n",
      "29\n",
      "ab\n",
      "31\n",
      "32\n",
      "a\n",
      "34\n",
      "b\n",
      "a\n",
      "37\n",
      "38\n",
      "a\n",
      "b\n",
      "41\n",
      "a\n",
      "43\n",
      "44\n",
      "ab\n",
      "46\n",
      "47\n",
      "a\n",
      "49\n",
      "b\n",
      "a\n",
      "52\n",
      "53\n",
      "a\n",
      "b\n",
      "56\n",
      "a\n",
      "58\n",
      "59\n",
      "ab\n",
      "61\n",
      "62\n",
      "a\n",
      "64\n",
      "b\n",
      "a\n",
      "67\n",
      "68\n",
      "a\n",
      "b\n",
      "71\n",
      "a\n",
      "73\n",
      "74\n",
      "ab\n",
      "76\n",
      "77\n",
      "a\n",
      "79\n",
      "b\n",
      "a\n",
      "82\n",
      "83\n",
      "a\n",
      "b\n",
      "86\n",
      "a\n",
      "88\n",
      "89\n",
      "ab\n",
      "91\n",
      "92\n",
      "a\n",
      "94\n",
      "b\n",
      "a\n",
      "97\n",
      "98\n",
      "a\n"
     ]
    }
   ],
   "source": [
    "for number in range(100):\n",
    "    if number%3==0 and number%5==0:\n",
    "        print(\"ab\")\n",
    "    elif number%3==0:\n",
    "        print(\"a\")\n",
    "    elif number%5==0:\n",
    "        print(\"b\")\n",
    "    else:\n",
    "        print(number)\n"
   ]
  },
  {
   "cell_type": "markdown",
   "metadata": {},
   "source": [
    "2. Create a 3x3 2D array filled with random integers between 1 and 10 (inclusive) \n",
    "- Calculate and print the sum of each row \n",
    "- Find and print the maximum and minimum values in the matrix, along with their \n",
    "positions (row and column indices). "
   ]
  },
  {
   "cell_type": "code",
   "execution_count": 35,
   "metadata": {},
   "outputs": [
    {
     "name": "stdout",
     "output_type": "stream",
     "text": [
      "[[4 1 4]\n",
      " [4 3 7]\n",
      " [2 3 1]]\n",
      "9\n",
      "14\n",
      "6\n",
      "The min is at (1, (array([0, 2]), array([1, 2]))) and the max is at (7, (array([1]), array([2])))\n"
     ]
    }
   ],
   "source": [
    "from random import randint\n",
    "import numpy as np\n",
    "\n",
    "#make array\n",
    "array_1 = np.array([[randint(1,10), randint(1,10), randint(1,10)],\n",
    "                  [randint(1,10), randint(1,10), randint(1,10)],\n",
    "                  [randint(1,10), randint(1,10), randint(1,10)]])\n",
    "\n",
    "print(array_1)\n",
    "\n",
    "# row sums\n",
    "for row in array_1:\n",
    "    print(sum(row))\n",
    "\n",
    "#with positions\n",
    "min_val =  (array_1.min(), np.where(array_1 == array_1.min()))\n",
    "max_val = (array_1.max(), np.where(array_1 == array_1.max()))\n",
    "\n",
    "print(f\"The min is at {min_val} and the max is at {max_val}\")\n"
   ]
  },
  {
   "cell_type": "markdown",
   "metadata": {},
   "source": [
    "3. Write a code that checks whether a given number x is part of the Fibonacci sequence. \n",
    "The program should output True if x is in the sequence and False otherwise."
   ]
  },
  {
   "cell_type": "code",
   "execution_count": 50,
   "metadata": {},
   "outputs": [
    {
     "name": "stdout",
     "output_type": "stream",
     "text": [
      "True\n",
      "False\n"
     ]
    }
   ],
   "source": [
    "import math\n",
    "\n",
    "def isitasquare(test_number):\n",
    "    square_root = int(math.sqrt(test_number))\n",
    "    return square_root*square_root == test_number\n",
    "\n",
    "test_number = 49\n",
    "print(isitasquare(test_number))\n",
    "\n",
    "# if a number is in the Fibonacci sequence, either 5𝑛2+45n2+4 or 5𝑛2−45n2−4 (or both) will be a perfect square\n",
    "def isitafibonnaci(number):\n",
    "    return isitasquare(5*number*number+4) or isitasquare(5*number*number - 4)\n",
    "\n",
    "number = 15\n",
    "if (isitafibonnaci(number) == True):\n",
    "    print (\"True\")\n",
    "else:\n",
    "    print(\"False\")"
   ]
  },
  {
   "cell_type": "markdown",
   "metadata": {},
   "source": [
    "4. Write a program that: \n",
    "- Allows the user to provide a source folder, a destination folder, and a filename string \n",
    "in command line. \n",
    "- Copies all files from the source folder that starts with the filename string to the \n",
    "destination folder. \n",
    "- Need to be able to handle errors (wrong folder name, etc.). Return a message “Error” \n",
    "if any error occurs."
   ]
  },
  {
   "cell_type": "code",
   "execution_count": 51,
   "metadata": {},
   "outputs": [
    {
     "name": "stderr",
     "output_type": "stream",
     "text": [
      "usage: ipykernel_launcher.py [-h] source_folder destination_folder file_name\n",
      "ipykernel_launcher.py: error: the following arguments are required: source_folder, destination_folder, file_name\n"
     ]
    },
    {
     "ename": "SystemExit",
     "evalue": "2",
     "output_type": "error",
     "traceback": [
      "An exception has occurred, use %tb to see the full traceback.\n",
      "\u001b[0;31mSystemExit\u001b[0m\u001b[0;31m:\u001b[0m 2\n"
     ]
    },
    {
     "name": "stderr",
     "output_type": "stream",
     "text": [
      "/Users/elizabethnemeti/miniconda3/envs/SPR24ENV/lib/python3.8/site-packages/IPython/core/interactiveshell.py:3516: UserWarning: To exit: use 'exit', 'quit', or Ctrl-D.\n",
      "  warn(\"To exit: use 'exit', 'quit', or Ctrl-D.\", stacklevel=1)\n"
     ]
    }
   ],
   "source": [
    "import argparse, os, shutil\n",
    "\n",
    "parser = argparse.ArgumentParser()\n",
    "parser.add_argument(\"source_folder\")\n",
    "parser.add_argument(\"destination_folder\")\n",
    "parser.add_argument(\"filename_string\")\n",
    "args = parser.parse_args()\n",
    "\n",
    "try:\n",
    "    for file in os.listdir(args.source_folder):\n",
    "        if args.filename_string in file:\n",
    "            shutil.copy(os.path.join(args.source_folder, file), args.destination_folder)\n",
    "            found = True\n",
    "    if not found:\n",
    "        print(f\"No files containing '{args.filename_string}' were found.\")\n",
    "except FileNotFoundError as e:\n",
    "    if not os.path.exists(args.source_folder):\n",
    "        print(f\"Error: Source folder '{args.source_folder}' does not exist.\")\n",
    "    elif not os.path.exists(args.destination_folder):\n",
    "        print(f\"Error: Destination folder '{args.destination_folder}' does not exist.\")\n",
    "    else:\n",
    "        print(f\"File not found: {e}\")"
   ]
  }
 ],
 "metadata": {
  "kernelspec": {
   "display_name": "Python (SPR24ENV)",
   "language": "python",
   "name": "spr24env"
  },
  "language_info": {
   "codemirror_mode": {
    "name": "ipython",
    "version": 3
   },
   "file_extension": ".py",
   "mimetype": "text/x-python",
   "name": "python",
   "nbconvert_exporter": "python",
   "pygments_lexer": "ipython3",
   "version": "3.8.18"
  }
 },
 "nbformat": 4,
 "nbformat_minor": 2
}
